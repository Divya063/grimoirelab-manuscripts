{
 "cells": [
  {
   "cell_type": "markdown",
   "metadata": {},
   "source": [
    "# GMD Metrics using Manuscripts2"
   ]
  },
  {
   "cell_type": "markdown",
   "metadata": {},
   "source": [
    "This Notebook is for the users of manuscripts to be able to generate the [GMD metrics](https://github.com/chaoss/metrics/blob/master/2_Growth-Maturity-Decline.md) by themselves using the new Manuscripts2 classes and functions. This Notebook aims at giving the users an indepth and hands on approach to calculating these metrics. We will be analysing the [grimoirelab-perceval](https://github.com/chaoss/grimoirelab-perceval) repository.\n",
    "\n",
    "We will primarily be using the git github_prs and github_issues data sources and [manuscripts2](https://github.com/chaoss/grimoirelab-manuscripts/tree/master/manuscripts2) module.\n",
    "\n",
    "First: Make sure that you have an elasticsearch instance running on your computer. If you are not running it on http://localhost:9200, please change the ES_URL variable below.\n",
    "\n",
    "Second: this notebook works on enriched indices to calculate the GMD metrics. If you know what they are and if you have them in your ES instance, great! Else please read this [README.md](https://github.com/chaoss/grimoirelab-manuscripts/blob/master/manuscripts2/README.md) explaining how to get the enriched indices."
   ]
  },
  {
   "cell_type": "markdown",
   "metadata": {},
   "source": [
    "We start by importing the necessary libraries."
   ]
  },
  {
   "cell_type": "code",
   "execution_count": 10,
   "metadata": {},
   "outputs": [],
   "source": [
    "import sys\n",
    "sys.path.insert(0, '..')\n",
    "\n",
    "# analysis modules\n",
    "import pandas as pd\n",
    "\n",
    "# query and connection modules\n",
    "from elasticsearch import Elasticsearch\n",
    "from elasticsearch_dsl import A\n",
    "\n",
    "# utility and support modules\n",
    "from manuscripts2.elasticsearch import (Query,\n",
    "                                        PullRequests,\n",
    "                                        Issues,\n",
    "                                        Index,\n",
    "                                        buckets_to_df,\n",
    "                                        calculate_bmi)\n",
    "from pprint import pprint\n",
    "from datetime import datetime, timezone\n",
    "from dateutil import parser, relativedelta"
   ]
  },
  {
   "cell_type": "markdown",
   "metadata": {},
   "source": [
    "These are some of the variables that are needed for the analysis. Please look at the [Readme.md](https://github.com/chaoss/grimoirelab-manuscripts/blob/master/manuscripts2/README.md) of manuscripts2 to know about how to generate the necessary infrastructure to calculate these metrics."
   ]
  },
  {
   "cell_type": "code",
   "execution_count": 2,
   "metadata": {},
   "outputs": [],
   "source": [
    "ES_URL = \"http://localhost:9200\"\n",
    "es = Elasticsearch(ES_URL)\n",
    "\n",
    "github_issues = \"perceval_github_issues\"\n",
    "github_prs = \"perceval_github_prs\"\n",
    "git_data_source = \"perceval_git\"\n",
    "\n",
    "github_issues_index = Index(es=es, index_name=github_issues)\n",
    "github_prs_index = Index(es=es, index_name=github_prs)\n",
    "git_index = Index(es=es, index_name=git_data_source)\n",
    "\n",
    "start_date = datetime(2015, 1, 1)\n",
    "end_date = datetime(2018, 7, 10)\n",
    "\n",
    "max_size = 10000 # temporary hack to get all the values in the query"
   ]
  },
  {
   "cell_type": "markdown",
   "metadata": {},
   "source": [
    "<h2><center>Issue Resolution</center></h2>\n",
    "\n",
    "Goal: Identify how effective the community is at addressing issues identified by community partcipants.\n",
    "\n",
    "Name | Question |\n",
    "--- | --- |\n",
    "[Open Issues](https://github.com/chaoss/metrics/tree/master/activity-metrics/open-issues.md) | What is the number of open issues? |\n",
    "[Closed Issues](https://github.com/chaoss/metrics/tree/master/activity-metrics/closed-issues.md) | What is the number of closed issues? | \n",
    "[Issue Resolution Efficiency](https://github.com/chaoss/metrics/tree/master/activity-metrics/issue-resolution-efficiency.md) | What is the number of closed issues/number of abandoned issues? |  \n",
    "[Open Issue Age](https://github.com/chaoss/metrics/tree/master/activity-metrics/open-issue-age.md) | What is the the age of open issues? | \n",
    "[First Response to Issue Duration](https://github.com/chaoss/metrics/tree/master/activity-metrics/first-response-to-issue-duration.md) | What is the duration of time for a first response to an issue? | \n",
    "[Closed Issue Resolution Duration](https://github.com/chaoss/metrics/tree/master/activity-metrics/closed-issue-resolution-duration.md) | What is the duration of time for issues to be resolved? |"
   ]
  },
  {
   "cell_type": "markdown",
   "metadata": {},
   "source": [
    "<a id=\"open_issues\"></a>\n",
    "### open issues"
   ]
  },
  {
   "cell_type": "markdown",
   "metadata": {},
   "source": [
    "Here, we can see that we get the issues open by authors, by organizations and by the month in which they were created."
   ]
  },
  {
   "cell_type": "code",
   "execution_count": 3,
   "metadata": {},
   "outputs": [
    {
     "name": "stdout",
     "output_type": "stream",
     "text": [
      "29\n"
     ]
    }
   ],
   "source": [
    "open_issues = Issues(github_issues_index)\n",
    "open_issues.is_open()\n",
    "num_open_issues = open_issues.get_cardinality(\"id_in_repo\").get_aggs()\n",
    "print(num_open_issues)"
   ]
  },
  {
   "cell_type": "markdown",
   "metadata": {},
   "source": [
    "<a id=\"closed_issues\"></a>\n",
    "### closed issues"
   ]
  },
  {
   "cell_type": "code",
   "execution_count": 4,
   "metadata": {},
   "outputs": [
    {
     "name": "stdout",
     "output_type": "stream",
     "text": [
      "Total issues closed:  115\n",
      "\n",
      "Total issues closed by authors: \n",
      "     0  doc_count                         key\n",
      "0   27         27         Alvaro del Castillo\n",
      "1   20         20              Alberto Martín\n",
      "2   10         10  Jesus M. Gonzalez-Barahona\n",
      "3    9          9              Manrique Lopez\n",
      "4    9          9             Santiago Dueñas\n",
      "5    3          3   Daniel Izquierdo Cortazar\n",
      "6    3          3        David Pose Fernández\n",
      "7    3          3                 Jose Miguel\n",
      "8    3          3                   Quan Zhou\n",
      "9    2          2    Brylie Christopher Oxley\n",
      "10   2          2                      MishiR\n",
      "11   2          2              Robin Muilwijk\n",
      "12   2          2             Saad Bin Shahid\n",
      "13   2          2                 TheReal1604\n",
      "14   2          2                 iganchevup8\n",
      "15   2          2                     valerio\n",
      "16   1          1               Andre Klapper\n",
      "17   1          1            Bogdan Vasilescu\n",
      "18   1          1                  Bowen Chen\n",
      "19   1          1              Cristian Baldi\n",
      "20   1          1              Heather Booker\n",
      "21   1          1        Lluis Josep Martinez\n",
      "22   1          1             Phillip Furtado\n",
      "23   1          1            Sachin S. Kamath\n",
      "24   1          1                  Taewan Kim\n",
      "25   1          1                    acs-test\n",
      "26   1          1                      hisi91\n",
      "27   1          1                    pine0207\n",
      "28   1          1                   pixelpshr\n",
      "29   1          1                    pkudigra\n"
     ]
    }
   ],
   "source": [
    "closed_issues = Issues(github_issues_index)\n",
    "closed_issues.is_closed()\n",
    "\n",
    "total_closed = closed_issues.get_cardinality(\"id_in_repo\").get_aggs() \n",
    "print(\"Total issues closed: \", total_closed)\n",
    "\n",
    "print()\n",
    "print(\"Total issues closed by authors: \")\n",
    "closed_by_authors = closed_issues.get_cardinality(\"id_in_repo\").by_authors(\"author_name\").fetch_aggregation_results()\n",
    "by_author_buckets = closed_by_authors['aggregations']['0']['buckets']\n",
    "print(buckets_to_df(by_author_buckets))"
   ]
  },
  {
   "cell_type": "markdown",
   "metadata": {},
   "source": [
    "### issue resolution efficiency:\n",
    "\n",
    "This is the number of (issues closed / issues open) per month"
   ]
  },
  {
   "cell_type": "code",
   "execution_count": 5,
   "metadata": {},
   "outputs": [
    {
     "name": "stdout",
     "output_type": "stream",
     "text": [
      "             bmi\n",
      "date            \n",
      "2016-01-01  1.00\n",
      "2016-02-01  0.50\n",
      "2016-03-01  0.50\n",
      "2016-04-01  1.00\n",
      "2016-05-01  0.00\n",
      "2016-06-01  0.33\n",
      "2016-07-01  1.00\n",
      "2016-08-01  0.00\n",
      "2016-09-01  0.71\n",
      "2016-10-01  0.58\n",
      "2016-11-01  0.57\n",
      "2016-12-01  1.50\n",
      "2017-01-01  0.73\n",
      "2017-02-01  3.00\n",
      "2017-03-01  0.71\n",
      "2017-04-01  1.50\n",
      "2017-05-01  0.50\n",
      "2017-06-01  1.00\n",
      "2017-07-01  1.00\n",
      "2017-08-01  0.00\n",
      "2017-09-01  0.56\n",
      "2017-10-01  0.88\n",
      "2017-11-01  1.18\n",
      "2017-12-01  0.75\n",
      "2018-01-01  1.33\n",
      "2018-02-01  0.57\n",
      "2018-03-01  1.25\n",
      "2018-04-01  3.00\n",
      "2018-05-01  0.00\n",
      "2018-06-01  1.00\n"
     ]
    }
   ],
   "source": [
    "opened_issues = Issues(github_issues_index)\n",
    "opened_issues_by_period = opened_issues.get_cardinality(\"id_in_repo\").by_period().get_timeseries(dataframe=True)\n",
    "closed_issues_by_period = closed_issues.get_cardinality(\"id_in_repo\").by_period(field=\"closed_at\").get_timeseries(dataframe=True)\n",
    "issue_resolution_efficiency_per_month = calculate_bmi(closed_issues_by_period, opened_issues_by_period)\n",
    "pprint(issue_resolution_efficiency_per_month)"
   ]
  },
  {
   "cell_type": "markdown",
   "metadata": {},
   "source": [
    "<a id=\"closed_issues\"></a>\n",
    "### open issue age\n",
    "\n",
    "As per the [discussion here](https://github.com/chaoss/metrics/blob/master/activity-metrics/open-issue-age.md), We'll calculate the percentile, mean, variance and create some visualisations for this metric."
   ]
  },
  {
   "cell_type": "code",
   "execution_count": 6,
   "metadata": {
    "scrolled": true
   },
   "outputs": [
    {
     "name": "stdout",
     "output_type": "stream",
     "text": [
      "Percentiles:  451.1400146484375\n",
      "Extended stats for the issues: \n",
      "{'avg': 420.9899962195035,\n",
      " 'count': 29,\n",
      " 'max': 892.7999877929688,\n",
      " 'min': 14.149999618530273,\n",
      " 'std_deviation': 315.4856400552799,\n",
      " 'std_deviation_bounds': {'lower': -209.98128389105625,\n",
      "                          'upper': 1051.9612763300634},\n",
      " 'sum': 12208.7098903656,\n",
      " 'sum_of_squares': 8026149.213941627,\n",
      " 'variance': 99531.1890810896}\n"
     ]
    }
   ],
   "source": [
    "issue = Issues(github_issues_index)\n",
    "issue.is_open()\n",
    "percentiles = issue.get_percentiles(\"time_open_days\").get_aggs()\n",
    "print(\"Percentiles: \", percentiles)\n",
    "\n",
    "issue.get_extended_stats(\"time_open_days\")\n",
    "extended_stats = issue.fetch_aggregation_results()['aggregations']['0']\n",
    "print(\"Extended stats for the issues: \")\n",
    "pprint(extended_stats)"
   ]
  },
  {
   "cell_type": "markdown",
   "metadata": {},
   "source": [
    "### first_response_to_issue duration"
   ]
  },
  {
   "cell_type": "code",
   "execution_count": 11,
   "metadata": {},
   "outputs": [
    {
     "name": "stdout",
     "output_type": "stream",
     "text": [
      "Percentiles:  0.19500000029802322\n",
      "Extended stats for the issues: \n",
      "{'avg': 21.262884847497425,\n",
      " 'count': 104,\n",
      " 'max': 535.3400268554688,\n",
      " 'min': 0.0,\n",
      " 'std_deviation': 82.63831294030459,\n",
      " 'std_deviation_bounds': {'lower': -144.01374103311176,\n",
      "                          'upper': 186.5395107281066},\n",
      " 'sum': 2211.340024139732,\n",
      " 'sum_of_squares': 757244.9079163955,\n",
      " 'variance': 6829.090765619713}\n"
     ]
    }
   ],
   "source": [
    "issues = Issues(github_issues_index)\n",
    "percentiles = issues.get_percentiles(\"time_to_first_attention\").get_aggs()\n",
    "print(\"Percentiles: \", percentiles)\n",
    "\n",
    "issues.get_extended_stats(\"time_to_first_attention\")\n",
    "extended_stats = issues.fetch_aggregation_results()['aggregations']['0']\n",
    "print(\"Extended stats for the issues: \")\n",
    "pprint(extended_stats)"
   ]
  },
  {
   "cell_type": "markdown",
   "metadata": {},
   "source": [
    "### closed issue resolution duration (Time to resolution of closed issue)"
   ]
  },
  {
   "cell_type": "markdown",
   "metadata": {},
   "source": [
    "#### percentiles"
   ]
  },
  {
   "cell_type": "code",
   "execution_count": 7,
   "metadata": {},
   "outputs": [
    {
     "name": "stdout",
     "output_type": "stream",
     "text": [
      "Percentiles:  3.6500000953674316\n",
      "Extended stats for the issues: \n",
      "{'avg': 30.83017426458714,\n",
      " 'count': 115,\n",
      " 'max': 582.3300170898438,\n",
      " 'min': 0.0,\n",
      " 'std_deviation': 92.63210085425231,\n",
      " 'std_deviation_bounds': {'lower': -154.4340274439175,\n",
      "                          'upper': 216.09437597309176},\n",
      " 'sum': 3545.470040427521,\n",
      " 'sum_of_squares': 1096088.661693576,\n",
      " 'variance': 8580.706108672372}\n"
     ]
    }
   ],
   "source": [
    "closed_issues = Issues(github_issues_index)\n",
    "closed_issues.is_closed()\n",
    "percentiles = closed_issues.get_percentiles(\"time_to_close_days\").get_aggs()\n",
    "print(\"Percentiles: \", percentiles)\n",
    "\n",
    "closed_issues.get_extended_stats(\"time_to_close_days\")\n",
    "extended_stats = closed_issues.fetch_aggregation_results()['aggregations']['0']\n",
    "print(\"Extended stats for the issues: \")\n",
    "pprint(extended_stats)"
   ]
  },
  {
   "cell_type": "markdown",
   "metadata": {},
   "source": [
    "#### Moving average\n",
    "Moving average: For time to issue resolution, we'll also look at the moving average."
   ]
  },
  {
   "cell_type": "code",
   "execution_count": 12,
   "metadata": {},
   "outputs": [
    {
     "name": "stdout",
     "output_type": "stream",
     "text": [
      "Moving average for closed issues: \n",
      "            date_in_seconds  monthly_moving_average     the_sum\n",
      "key                                                            \n",
      "2016-01-18    1453075200000                0.000000    0.570000\n",
      "2016-01-25    1453680000000                0.000000    0.000000\n",
      "2016-02-01    1454284800000                0.000000    0.000000\n",
      "2016-02-08    1454889600000                0.570000   16.299999\n",
      "2016-02-15    1455494400000                0.000000    0.000000\n",
      "2016-02-22    1456099200000                0.000000    0.000000\n",
      "2016-02-29    1456704000000                0.000000    0.000000\n",
      "2016-03-07    1457308800000                8.435000    0.070000\n",
      "2016-03-14    1457913600000                5.646666    3.640000\n",
      "2016-03-21    1458518400000                5.145000    4.950000\n",
      "2016-03-28    1459123200000                0.000000    0.000000\n",
      "2016-04-04    1459728000000                5.106000    0.760000\n",
      "2016-04-11    1460332800000                0.000000    0.000000\n",
      "2016-04-18    1460937600000                0.000000    0.000000\n",
      "2016-04-25    1461542400000                0.000000    0.000000\n",
      "2016-05-02    1462147200000                0.000000    0.000000\n",
      "2016-05-09    1462752000000                0.000000    0.000000\n",
      "2016-05-16    1463356800000                0.000000    0.000000\n",
      "2016-05-23    1463961600000                0.000000    0.000000\n",
      "2016-05-30    1464566400000                0.000000    0.000000\n",
      "2016-06-06    1465171200000                5.144000  198.010000\n",
      "2016-06-13    1465776000000                0.000000    0.000000\n",
      "2016-06-20    1466380800000                0.000000    0.000000\n",
      "2016-06-27    1466985600000                0.000000    0.000000\n",
      "2016-07-04    1467590400000               41.486000    2.990000\n",
      "2016-07-11    1468195200000               42.070000    3.190000\n",
      "2016-07-18    1468800000000                0.000000    0.000000\n",
      "2016-07-25    1469404800000                0.000000    0.000000\n",
      "2016-08-01    1470009600000                0.000000    0.000000\n",
      "2016-08-08    1470614400000                0.000000    0.000000\n",
      "...                     ...                     ...         ...\n",
      "2017-11-27    1511740800000               23.168000   33.059998\n",
      "2017-12-04    1512345600000               29.673999   20.829999\n",
      "2017-12-11    1512950400000               30.715999    3.080000\n",
      "2017-12-18    1513555200000               27.709999   10.050000\n",
      "2017-12-25    1514160000000               13.422000    8.000000\n",
      "2018-01-01    1514764800000               15.004000    8.610000\n",
      "2018-01-08    1515369600000                0.000000    0.000000\n",
      "2018-01-15    1515974400000               10.114000   26.180000\n",
      "2018-01-22    1516579200000               11.184000    3.140000\n",
      "2018-01-29    1517184000000                0.000000    0.000000\n",
      "2018-02-05    1517788800000               11.196000   52.869999\n",
      "2018-02-12    1518393600000               19.760000   76.329999\n",
      "2018-02-19    1518998400000               33.426000    0.530000\n",
      "2018-02-26    1519603200000               31.810000    7.650000\n",
      "2018-03-05    1520208000000                0.000000    0.000000\n",
      "2018-03-12    1520812800000               28.104000   18.390000\n",
      "2018-03-19    1521417600000               31.153999    3.140000\n",
      "2018-03-26    1522022400000                0.000000    0.000000\n",
      "2018-04-02    1522627200000               21.208000    8.500000\n",
      "2018-04-09    1523232000000                0.000000    0.000000\n",
      "2018-04-16    1523836800000                0.000000    0.000000\n",
      "2018-04-23    1524441600000                0.000000    0.000000\n",
      "2018-04-30    1525046400000                0.000000    0.000000\n",
      "2018-05-07    1525651200000                0.000000    0.000000\n",
      "2018-05-14    1526256000000                0.000000    0.000000\n",
      "2018-05-21    1526860800000                0.000000    0.000000\n",
      "2018-05-28    1527465600000                7.642000   11.670000\n",
      "2018-06-04    1528070400000                0.000000    0.000000\n",
      "2018-06-11    1528675200000                0.000000    0.000000\n",
      "2018-06-18    1529280000000                9.870000    2.100000\n",
      "\n",
      "[127 rows x 3 columns]\n"
     ]
    }
   ],
   "source": [
    "'''\n",
    "Example query to get moving average \n",
    "{\n",
    "    \"size\": 0,\n",
    "    \"aggs\": {\n",
    "        \"my_date_histo\":{                \n",
    "            \"date_histogram\":{\n",
    "                \"field\":\"created_at\",\n",
    "                \"interval\":\"1M\"\n",
    "            },\n",
    "            \"aggs\":{\n",
    "                \"the_sum\":{\n",
    "                    \"sum\":{ \"field\": \"time_to_close_days\" } \n",
    "                },\n",
    "                \"the_movavg\":{\n",
    "                    \"moving_avg\":{ \"buckets_path\": \"the_sum\" } \n",
    "                }\n",
    "            }\n",
    "        }\n",
    "    }\n",
    "}\n",
    "'''\n",
    "\n",
    "closed_issues = Issues(github_issues_index)\n",
    "closed_issues.is_closed()\n",
    "a = A(\"date_histogram\", field=\"created_at\", interval=\"week\")\n",
    "a.metric(\"the_sum\", \"sum\", field=\"time_to_close_days\")\n",
    "a.metric(\"monthly_moving_average\", \"moving_avg\", buckets_path=\"the_sum\")\n",
    "closed_issues.add_custom_aggregation(a)\n",
    "moving_average_for_closed_issues = buckets_to_df(closed_issues.fetch_aggregation_results()['aggregations']['0']['buckets'])\n",
    "print(\"Moving average for closed issues: \")\n",
    "print(moving_average_for_closed_issues)"
   ]
  },
  {
   "cell_type": "markdown",
   "metadata": {},
   "source": [
    "## Code Development\n",
    "Goal: Identify how effective the community is at merging new code into the codebase.\n",
    "\n",
    "Name | Question |\n",
    "--- | --- | \n",
    "[Code Commits](https://github.com/chaoss/metrics/tree/master/activity-metrics/code-commits.md) | What is the number of code commits? |\n",
    "[Lines of Code Changed](https://github.com/chaoss/metrics/tree/master/activity-metrics/lines-of-code-changed.md) | What is the number of lines of code changed? | \n",
    "[Code Reviews](https://github.com/chaoss/metrics/tree/master/activity-metrics/code-reviews.md) | What is the number of code reviews?\n",
    "[Code Merge Duration](https://github.com/chaoss/metrics/tree/master/activity-metrics/code-merge-duration.md) | What is the duration of time between code merge request and code commit?\n",
    "[Code Review Efficiency](https://github.com/chaoss/metrics/tree/master/activity-metrics/code-review-efficiency.md) | What is the number of merged code changes/number of abandoned code change requests?\n",
    "[Maintainer Response to Merge Request Duration](https://github.com/chaoss/metrics/tree/master/activity-metrics/maintainer-response-to-merge-request-duration.md) | What is the duration of time for a maintainer to make a first response to a code merge request?\n",
    "[Code Review Iteration](https://github.com/chaoss/metrics/tree/master/activity-metrics/code-review-iteration.md) | What is the number of iterations that occur before a merge request is accepted or declined?\n",
    "[Forks](https://github.com/chaoss/metrics/tree/master/activity-metrics/forks.md) | Forks are a concept in distributed version control systems like GitHub. It is a proxy for the approximate number of developers who have taken a shot at building and deploying the codebase *for development*.\n",
    "[Pull Requests Open](https://github.com/chaoss/metrics/tree/master/activity-metrics/pull-requests-open.md) | Number of open pull requests. | \n",
    "[Pull Requests Closed](https://github.com/chaoss/metrics/tree/master/activity-metrics/pull-requests-made-closed.md) | Number of closed pull requests. | \n",
    "[Pull Request Comment Duration](https://github.com/chaoss/metrics/tree/master/activity-metrics/pull-requests-comment-duration.md) | The difference between the timestamp of the pull request creation date and the most recent comment on the pull request.\n",
    "[Pull Request Comment Diversity](https://github.com/chaoss/metrics/tree/master/activity-metrics/pull-requests-comment-diversity.md) | Number of each people discussing each pull request.\n",
    "[Pull Request Comments](https://github.com/chaoss/metrics/tree/master/activity-metrics/pull-request-comments.md) | Number of comments on each pull request. \n"
   ]
  },
  {
   "cell_type": "markdown",
   "metadata": {},
   "source": [
    "### code commits\n",
    "\n",
    "**NOTE:** HERE THE INDEX WILL HAVE TO BE CHANGED"
   ]
  },
  {
   "cell_type": "code",
   "execution_count": 13,
   "metadata": {},
   "outputs": [
    {
     "name": "stdout",
     "output_type": "stream",
     "text": [
      "total commits:  1244\n"
     ]
    }
   ],
   "source": [
    "commits = Query(git_index)\n",
    "commits.get_cardinality(\"hash\")\n",
    "total_commits = commits.get_aggs()\n",
    "print(\"total commits: \", total_commits)"
   ]
  },
  {
   "cell_type": "markdown",
   "metadata": {},
   "source": [
    "##### Number of commits by months"
   ]
  },
  {
   "cell_type": "code",
   "execution_count": 14,
   "metadata": {},
   "outputs": [
    {
     "data": {
      "text/html": [
       "<div>\n",
       "<style scoped>\n",
       "    .dataframe tbody tr th:only-of-type {\n",
       "        vertical-align: middle;\n",
       "    }\n",
       "\n",
       "    .dataframe tbody tr th {\n",
       "        vertical-align: top;\n",
       "    }\n",
       "\n",
       "    .dataframe thead th {\n",
       "        text-align: right;\n",
       "    }\n",
       "</style>\n",
       "<table border=\"1\" class=\"dataframe\">\n",
       "  <thead>\n",
       "    <tr style=\"text-align: right;\">\n",
       "      <th></th>\n",
       "      <th>unixtime</th>\n",
       "      <th>value</th>\n",
       "    </tr>\n",
       "    <tr>\n",
       "      <th>date</th>\n",
       "      <th></th>\n",
       "      <th></th>\n",
       "    </tr>\n",
       "  </thead>\n",
       "  <tbody>\n",
       "    <tr>\n",
       "      <th>2015-08-01</th>\n",
       "      <td>1.438387e+09</td>\n",
       "      <td>8</td>\n",
       "    </tr>\n",
       "    <tr>\n",
       "      <th>2015-09-01</th>\n",
       "      <td>1.441066e+09</td>\n",
       "      <td>0</td>\n",
       "    </tr>\n",
       "    <tr>\n",
       "      <th>2015-10-01</th>\n",
       "      <td>1.443658e+09</td>\n",
       "      <td>0</td>\n",
       "    </tr>\n",
       "    <tr>\n",
       "      <th>2015-11-01</th>\n",
       "      <td>1.446336e+09</td>\n",
       "      <td>23</td>\n",
       "    </tr>\n",
       "    <tr>\n",
       "      <th>2015-12-01</th>\n",
       "      <td>1.448928e+09</td>\n",
       "      <td>21</td>\n",
       "    </tr>\n",
       "    <tr>\n",
       "      <th>2016-01-01</th>\n",
       "      <td>1.451606e+09</td>\n",
       "      <td>26</td>\n",
       "    </tr>\n",
       "    <tr>\n",
       "      <th>2016-02-01</th>\n",
       "      <td>1.454285e+09</td>\n",
       "      <td>76</td>\n",
       "    </tr>\n",
       "    <tr>\n",
       "      <th>2016-03-01</th>\n",
       "      <td>1.456790e+09</td>\n",
       "      <td>51</td>\n",
       "    </tr>\n",
       "    <tr>\n",
       "      <th>2016-04-01</th>\n",
       "      <td>1.459469e+09</td>\n",
       "      <td>24</td>\n",
       "    </tr>\n",
       "    <tr>\n",
       "      <th>2016-05-01</th>\n",
       "      <td>1.462061e+09</td>\n",
       "      <td>21</td>\n",
       "    </tr>\n",
       "    <tr>\n",
       "      <th>2016-06-01</th>\n",
       "      <td>1.464739e+09</td>\n",
       "      <td>30</td>\n",
       "    </tr>\n",
       "    <tr>\n",
       "      <th>2016-07-01</th>\n",
       "      <td>1.467331e+09</td>\n",
       "      <td>42</td>\n",
       "    </tr>\n",
       "    <tr>\n",
       "      <th>2016-08-01</th>\n",
       "      <td>1.470010e+09</td>\n",
       "      <td>9</td>\n",
       "    </tr>\n",
       "    <tr>\n",
       "      <th>2016-09-01</th>\n",
       "      <td>1.472688e+09</td>\n",
       "      <td>27</td>\n",
       "    </tr>\n",
       "    <tr>\n",
       "      <th>2016-10-01</th>\n",
       "      <td>1.475280e+09</td>\n",
       "      <td>103</td>\n",
       "    </tr>\n",
       "    <tr>\n",
       "      <th>2016-11-01</th>\n",
       "      <td>1.477958e+09</td>\n",
       "      <td>42</td>\n",
       "    </tr>\n",
       "    <tr>\n",
       "      <th>2016-12-01</th>\n",
       "      <td>1.480550e+09</td>\n",
       "      <td>32</td>\n",
       "    </tr>\n",
       "    <tr>\n",
       "      <th>2017-01-01</th>\n",
       "      <td>1.483229e+09</td>\n",
       "      <td>46</td>\n",
       "    </tr>\n",
       "    <tr>\n",
       "      <th>2017-02-01</th>\n",
       "      <td>1.485907e+09</td>\n",
       "      <td>37</td>\n",
       "    </tr>\n",
       "    <tr>\n",
       "      <th>2017-03-01</th>\n",
       "      <td>1.488326e+09</td>\n",
       "      <td>36</td>\n",
       "    </tr>\n",
       "    <tr>\n",
       "      <th>2017-04-01</th>\n",
       "      <td>1.491005e+09</td>\n",
       "      <td>6</td>\n",
       "    </tr>\n",
       "    <tr>\n",
       "      <th>2017-05-01</th>\n",
       "      <td>1.493597e+09</td>\n",
       "      <td>16</td>\n",
       "    </tr>\n",
       "    <tr>\n",
       "      <th>2017-06-01</th>\n",
       "      <td>1.496275e+09</td>\n",
       "      <td>5</td>\n",
       "    </tr>\n",
       "    <tr>\n",
       "      <th>2017-07-01</th>\n",
       "      <td>1.498867e+09</td>\n",
       "      <td>2</td>\n",
       "    </tr>\n",
       "    <tr>\n",
       "      <th>2017-08-01</th>\n",
       "      <td>1.501546e+09</td>\n",
       "      <td>3</td>\n",
       "    </tr>\n",
       "    <tr>\n",
       "      <th>2017-09-01</th>\n",
       "      <td>1.504224e+09</td>\n",
       "      <td>30</td>\n",
       "    </tr>\n",
       "    <tr>\n",
       "      <th>2017-10-01</th>\n",
       "      <td>1.506816e+09</td>\n",
       "      <td>61</td>\n",
       "    </tr>\n",
       "    <tr>\n",
       "      <th>2017-11-01</th>\n",
       "      <td>1.509494e+09</td>\n",
       "      <td>45</td>\n",
       "    </tr>\n",
       "    <tr>\n",
       "      <th>2017-12-01</th>\n",
       "      <td>1.512086e+09</td>\n",
       "      <td>39</td>\n",
       "    </tr>\n",
       "    <tr>\n",
       "      <th>2018-01-01</th>\n",
       "      <td>1.514765e+09</td>\n",
       "      <td>93</td>\n",
       "    </tr>\n",
       "    <tr>\n",
       "      <th>2018-02-01</th>\n",
       "      <td>1.517443e+09</td>\n",
       "      <td>60</td>\n",
       "    </tr>\n",
       "    <tr>\n",
       "      <th>2018-03-01</th>\n",
       "      <td>1.519862e+09</td>\n",
       "      <td>126</td>\n",
       "    </tr>\n",
       "    <tr>\n",
       "      <th>2018-04-01</th>\n",
       "      <td>1.522541e+09</td>\n",
       "      <td>33</td>\n",
       "    </tr>\n",
       "    <tr>\n",
       "      <th>2018-05-01</th>\n",
       "      <td>1.525133e+09</td>\n",
       "      <td>15</td>\n",
       "    </tr>\n",
       "    <tr>\n",
       "      <th>2018-06-01</th>\n",
       "      <td>1.527811e+09</td>\n",
       "      <td>17</td>\n",
       "    </tr>\n",
       "    <tr>\n",
       "      <th>2018-07-01</th>\n",
       "      <td>1.530403e+09</td>\n",
       "      <td>39</td>\n",
       "    </tr>\n",
       "  </tbody>\n",
       "</table>\n",
       "</div>"
      ],
      "text/plain": [
       "                unixtime  value\n",
       "date                           \n",
       "2015-08-01  1.438387e+09      8\n",
       "2015-09-01  1.441066e+09      0\n",
       "2015-10-01  1.443658e+09      0\n",
       "2015-11-01  1.446336e+09     23\n",
       "2015-12-01  1.448928e+09     21\n",
       "2016-01-01  1.451606e+09     26\n",
       "2016-02-01  1.454285e+09     76\n",
       "2016-03-01  1.456790e+09     51\n",
       "2016-04-01  1.459469e+09     24\n",
       "2016-05-01  1.462061e+09     21\n",
       "2016-06-01  1.464739e+09     30\n",
       "2016-07-01  1.467331e+09     42\n",
       "2016-08-01  1.470010e+09      9\n",
       "2016-09-01  1.472688e+09     27\n",
       "2016-10-01  1.475280e+09    103\n",
       "2016-11-01  1.477958e+09     42\n",
       "2016-12-01  1.480550e+09     32\n",
       "2017-01-01  1.483229e+09     46\n",
       "2017-02-01  1.485907e+09     37\n",
       "2017-03-01  1.488326e+09     36\n",
       "2017-04-01  1.491005e+09      6\n",
       "2017-05-01  1.493597e+09     16\n",
       "2017-06-01  1.496275e+09      5\n",
       "2017-07-01  1.498867e+09      2\n",
       "2017-08-01  1.501546e+09      3\n",
       "2017-09-01  1.504224e+09     30\n",
       "2017-10-01  1.506816e+09     61\n",
       "2017-11-01  1.509494e+09     45\n",
       "2017-12-01  1.512086e+09     39\n",
       "2018-01-01  1.514765e+09     93\n",
       "2018-02-01  1.517443e+09     60\n",
       "2018-03-01  1.519862e+09    126\n",
       "2018-04-01  1.522541e+09     33\n",
       "2018-05-01  1.525133e+09     15\n",
       "2018-06-01  1.527811e+09     17\n",
       "2018-07-01  1.530403e+09     39"
      ]
     },
     "execution_count": 14,
     "metadata": {},
     "output_type": "execute_result"
    }
   ],
   "source": [
    "commits.get_cardinality(\"hash\").by_period().get_timeseries(dataframe=True)"
   ]
  },
  {
   "cell_type": "markdown",
   "metadata": {},
   "source": [
    "### lines of code changed"
   ]
  },
  {
   "cell_type": "code",
   "execution_count": 15,
   "metadata": {
    "scrolled": true
   },
   "outputs": [
    {
     "name": "stdout",
     "output_type": "stream",
     "text": [
      "Total lines changed:  197426.0\n",
      "Total lines added:  152494.0\n",
      "Total lines removed:  44932.0\n"
     ]
    }
   ],
   "source": [
    "commits = Query(git_index)\n",
    "lc = commits.get_sum(\"lines_changed\").get_aggs()\n",
    "la = commits.get_sum(\"lines_added\").get_aggs()\n",
    "lr = commits.get_sum(\"lines_removed\").get_aggs()\n",
    "\n",
    "print(\"Total lines changed: \", lc)\n",
    "print(\"Total lines added: \", la)\n",
    "print(\"Total lines removed: \", lr)"
   ]
  },
  {
   "cell_type": "markdown",
   "metadata": {},
   "source": [
    "### Code reviews = Number of PRs"
   ]
  },
  {
   "cell_type": "code",
   "execution_count": 19,
   "metadata": {},
   "outputs": [
    {
     "name": "stdout",
     "output_type": "stream",
     "text": [
      "Number of PRs:  276\n",
      "Number of PRs per quarter: \n",
      "                unixtime  value\n",
      "date                           \n",
      "2015-10-01  1.443658e+09      2\n",
      "2016-01-01  1.451606e+09     18\n",
      "2016-04-01  1.459469e+09     11\n",
      "2016-07-01  1.467331e+09     13\n",
      "2016-10-01  1.475280e+09     12\n",
      "2017-01-01  1.483229e+09     10\n",
      "2017-04-01  1.491005e+09      4\n",
      "2017-07-01  1.498867e+09     16\n",
      "2017-10-01  1.506816e+09     66\n",
      "2018-01-01  1.514765e+09     82\n",
      "2018-04-01  1.522541e+09     24\n",
      "2018-07-01  1.530403e+09     18\n"
     ]
    }
   ],
   "source": [
    "prs = PullRequests(github_prs_index)\n",
    "print(\"Number of PRs: \", prs.get_cardinality(\"id_in_repo\").get_aggs())\n",
    "\n",
    "print(\"Number of PRs per quarter: \")\n",
    "print(prs.get_cardinality(\"id_in_repo\").by_period(period=\"quarter\").get_timeseries(dataframe=True))"
   ]
  },
  {
   "cell_type": "markdown",
   "metadata": {},
   "source": [
    "### pull requests Open"
   ]
  },
  {
   "cell_type": "code",
   "execution_count": 20,
   "metadata": {},
   "outputs": [
    {
     "name": "stdout",
     "output_type": "stream",
     "text": [
      "Number of Pull Requests open:  8\n",
      "\n",
      "Open PRs by authors\n",
      "   0  doc_count                         key\n",
      "0  2          2  Jesus M. Gonzalez-Barahona\n",
      "1  2          2               Keanu Nichols\n",
      "2  1          1               Gustavo Silva\n",
      "3  1          1                 Jose Miguel\n",
      "4  1          1      Miguel Ángel Fernández\n",
      "5  1          1                     valerio\n"
     ]
    }
   ],
   "source": [
    "open_prs = PullRequests(github_prs_index)\n",
    "open_prs.is_open()\n",
    "# get the single valued aggregation before putting it again as a child agg\n",
    "num_open_prs = open_prs.get_cardinality(\"id_in_repo\").get_aggs() \n",
    "print(\"Number of Pull Requests open: \", num_open_prs)\n",
    "print()\n",
    "open_prs.get_cardinality(\"id_in_repo\").by_authors(\"author_name\")\n",
    "response = open_prs.fetch_aggregation_results()['aggregations']\n",
    "open_prs_by_authors = response['0']['buckets']\n",
    "print(\"Open PRs by authors\")\n",
    "print(buckets_to_df(open_prs_by_authors))"
   ]
  },
  {
   "cell_type": "markdown",
   "metadata": {},
   "source": [
    "### pull requests closed"
   ]
  },
  {
   "cell_type": "code",
   "execution_count": 21,
   "metadata": {},
   "outputs": [
    {
     "name": "stdout",
     "output_type": "stream",
     "text": [
      "Number of closed pull requests:  268\n",
      "\n",
      "Number of closed PRs by authors\n",
      "      0  doc_count                         key\n",
      "0   153        153                     valerio\n",
      "1    33         33         Alvaro del Castillo\n",
      "2    22         22             Santiago Dueñas\n",
      "3    19         19  Jesus M. Gonzalez-Barahona\n",
      "4    10         10              Alberto Martín\n",
      "5     4          4                 Jose Miguel\n",
      "6     4          4                   Quan Zhou\n",
      "7     3          3        David Pose Fernández\n",
      "8     2          2                 David Esler\n",
      "9     2          2              Israel Herraiz\n",
      "10    2          2               Keanu Nichols\n",
      "11    2          2                    camillem\n",
      "12    1          1           Anvesh Chaturvedi\n",
      "13    1          1                 Assad (OW2)\n",
      "14    1          1               Gustavo Silva\n",
      "15    1          1                      Jeremy\n",
      "16    1          1             Luis Cañas-Díaz\n",
      "17    1          1              Manrique Lopez\n",
      "18    1          1      Miguel Ángel Fernández\n",
      "19    1          1           Nicolas Lamirault\n",
      "20    1          1                     Prabhat\n",
      "21    1          1               Stephan Barth\n",
      "22    1          1                    acs-test\n",
      "23    1          1                   dandanwei\n"
     ]
    }
   ],
   "source": [
    "closed_prs = PullRequests(github_prs_index)\n",
    "closed_prs.is_closed()\n",
    "# get the single valued aggregation before putting it again as a child agg\n",
    "num_closed_prs = closed_prs.get_cardinality(\"id_in_repo\").get_aggs()\n",
    "print(\"Number of closed pull requests: \", num_closed_prs)\n",
    "print()\n",
    "\n",
    "closed_prs.get_cardinality(\"id_in_repo\").by_authors(\"author_name\")\n",
    "response = closed_prs.fetch_aggregation_results()['aggregations']\n",
    "closed_prs_by_authors = response['0']['buckets']\n",
    "print(\"Number of closed PRs by authors\")\n",
    "print(buckets_to_df(closed_prs_by_authors))"
   ]
  },
  {
   "cell_type": "markdown",
   "metadata": {},
   "source": [
    "## Community Growth\n",
    "Goal: Identify the size of the project community and whether it's growing, shrinking, or staying the same.\n",
    "\n",
    "Name | Question | \n",
    "--- | --- |\n",
    "[Contributors](https://github.com/chaoss/metrics/tree/master/activity-metrics/contributors.md) | What is the number of contributors? |\n",
    "[New Contributors](https://github.com/chaoss/metrics/tree/master/activity-metrics/new-contributors.md) | What is the number of new contributors? | \n",
    "[Contributing Organizations](https://github.com/chaoss/metrics/tree/master/activity-metrics/contributing-organizations.md) | What is the number of contributing organizations? |\n",
    "[New Contributing Organizations](https://github.com/chaoss/metrics/tree/master/activity-metrics/new-contributing-organizations.md) | What is the number of new contributing organizations?\n",
    "[Sub-Projects](https://github.com/chaoss/metrics/tree/master/activity-metrics/sub-projects.md) | What is the number of sub-projects?"
   ]
  },
  {
   "cell_type": "markdown",
   "metadata": {},
   "source": [
    "### number of contributors"
   ]
  },
  {
   "cell_type": "code",
   "execution_count": 22,
   "metadata": {},
   "outputs": [
    {
     "name": "stdout",
     "output_type": "stream",
     "text": [
      "                                lines_changed  lines_added  lines_removed  \\\n",
      "key                                                                         \n",
      "Santiago Dueñas                       61910.0      45588.0        16322.0   \n",
      "valerio cosentino                     90952.0      64292.0        26660.0   \n",
      "Alvaro del Castillo                   15735.0      15340.0          395.0   \n",
      "Alberto Martín                        22862.0      21781.0         1081.0   \n",
      "Jesus M. Gonzalez-Barahona             1232.0       1105.0          127.0   \n",
      "quan                                   3654.0       3593.0           61.0   \n",
      "Miguel Ángel Fernández                  190.0         46.0          144.0   \n",
      "David Pose Fernández                     10.0          4.0            6.0   \n",
      "camillem                                  4.0          2.0            2.0   \n",
      "valerio                                 162.0        123.0           39.0   \n",
      "David Esler                               3.0          2.0            1.0   \n",
      "Israel Herraiz                           68.0         61.0            7.0   \n",
      "J. Manrique Lopez de la Fuente          331.0        331.0            0.0   \n",
      "Luis Cañas Díaz                           4.0          2.0            2.0   \n",
      "Prabhat                                  28.0         14.0           14.0   \n",
      "Stephan Barth                           108.0         54.0           54.0   \n",
      "anveshc05                               169.0        153.0           16.0   \n",
      "david                                     4.0          3.0            1.0   \n",
      "\n",
      "                                files_changed  \n",
      "key                                            \n",
      "Santiago Dueñas                      2.079221  \n",
      "valerio cosentino                    2.185759  \n",
      "Alvaro del Castillo                  2.372881  \n",
      "Alberto Martín                       1.921569  \n",
      "Jesus M. Gonzalez-Barahona           4.157895  \n",
      "quan                                 5.600000  \n",
      "Miguel Ángel Fernández              11.333333  \n",
      "David Pose Fernández                 2.000000  \n",
      "camillem                             1.000000  \n",
      "valerio                              7.000000  \n",
      "David Esler                          1.000000  \n",
      "Israel Herraiz                       3.000000  \n",
      "J. Manrique Lopez de la Fuente       4.000000  \n",
      "Luis Cañas Díaz                      2.000000  \n",
      "Prabhat                              2.000000  \n",
      "Stephan Barth                       54.000000  \n",
      "anveshc05                            3.000000  \n",
      "david                                1.000000  \n"
     ]
    }
   ],
   "source": [
    "contributors = Query(git_index)\n",
    "contributors.get_sum(\"lines_changed\").by_authors(\"author_name\")\n",
    "contributors.get_sum(\"lines_added\").by_authors(\"author_name\")\n",
    "contributors.get_sum(\"lines_removed\").by_authors(\"author_name\")\n",
    "contributors.get_average(\"files\").by_authors(\"author_name\")\n",
    "\n",
    "contributors_df = buckets_to_df(contributors.fetch_aggregation_results()['aggregations']['0']['buckets'])\n",
    "del contributors_df['doc_count']\n",
    "\n",
    "contributors_df = contributors_df.set_index(\"key\")\n",
    "contributors_df = contributors_df.rename(columns={'0': \"lines_changed\", '1': \"lines_added\", '2': \"lines_removed\", '3': \"files_changed\"})\n",
    "\n",
    "print(contributors_df)"
   ]
  },
  {
   "cell_type": "markdown",
   "metadata": {},
   "source": [
    "### new contributors\n",
    "\n",
    "For new contributors, we have to get the names and counts of the people who made commits to the project. [This](https://grimoirelab.gitbooks.io/tutorial/python/pandas-for-grimoirelab-indexes.html) tutorial of Grimoirelab actually gets the dates on which the authors made their first commits. Based on that we can get the months when the authors made their first commits and those authors will be the new authors for that month. We can do a similar thing for Year. (We can also get the authors by week, but there is little point in calculating that and it will be complex to calculate that too.)"
   ]
  },
  {
   "cell_type": "code",
   "execution_count": 23,
   "metadata": {},
   "outputs": [
    {
     "name": "stdout",
     "output_type": "stream",
     "text": [
      "               0  doc_count                             key\n",
      "0   1.439921e+12        770                 Santiago Dueñas\n",
      "1   1.504796e+12        323               valerio cosentino\n",
      "2   1.449255e+12         59             Alvaro del Castillo\n",
      "3   1.455033e+12         51                  Alberto Martín\n",
      "4   1.451589e+12         19      Jesus M. Gonzalez-Barahona\n",
      "5   1.459513e+12          5                            quan\n",
      "6   1.518440e+12          3          Miguel Ángel Fernández\n",
      "7   1.509697e+12          2            David Pose Fernández\n",
      "8   1.459163e+12          2                        camillem\n",
      "9   1.507653e+12          2                         valerio\n",
      "10  1.508280e+12          1                     David Esler\n",
      "11  1.515512e+12          1                  Israel Herraiz\n",
      "12  1.457165e+12          1  J. Manrique Lopez de la Fuente\n",
      "13  1.474893e+12          1                 Luis Cañas Díaz\n",
      "14  1.523210e+12          1                         Prabhat\n",
      "15  1.483981e+12          1                   Stephan Barth\n",
      "16  1.521724e+12          1                       anveshc05\n",
      "17  1.512673e+12          1                           david\n"
     ]
    }
   ],
   "source": [
    "# new contributors by month\n",
    "new_contributors = Query(git_index)\n",
    "new_contributors.get_min(\"author_date\").by_authors(\"author_name\")\n",
    "response = new_contributors.fetch_aggregation_results()\n",
    "buckets = response['aggregations']['0']['buckets']\n",
    "pprint(buckets_to_df(buckets))"
   ]
  },
  {
   "cell_type": "markdown",
   "metadata": {},
   "source": [
    "### Contributing Organizations"
   ]
  },
  {
   "cell_type": "code",
   "execution_count": 24,
   "metadata": {},
   "outputs": [
    {
     "name": "stdout",
     "output_type": "stream",
     "text": [
      "0                       @Bitergia \n",
      "1                         Bitergia\n",
      "2                         GNUmedia\n",
      "3            BBVA Data & Analytics\n",
      "4                               EY\n",
      "5                   Geeky Engineer\n",
      "6                 T-Systems Iberia\n",
      "7                 @DIAL-Community \n",
      "8                           @SUSE \n",
      "9                           @adobe\n",
      "10                             CMU\n",
      "11                  IIIT Hyderabad\n",
      "12                          Orange\n",
      "13                            SUSE\n",
      "14                         Samsung\n",
      "15              University of Oulu\n",
      "16                  Yak Shave Inc.\n",
      "17    http://www.aeva.in/team.html\n",
      "dtype: object\n"
     ]
    }
   ],
   "source": [
    "contributing_orgs = Query(github_issues_index)\n",
    "contributing_orgs.get_terms(\"user_org\")\n",
    "response = contributing_orgs.fetch_aggregation_results()\n",
    "buckets = response['aggregations']['0']['buckets']\n",
    "organizations = pd.Series([item['key'] for item in buckets])\n",
    "print(organizations)"
   ]
  }
 ],
 "metadata": {
  "kernelspec": {
   "display_name": "Python 3",
   "language": "python",
   "name": "python3"
  },
  "language_info": {
   "codemirror_mode": {
    "name": "ipython",
    "version": 3
   },
   "file_extension": ".py",
   "mimetype": "text/x-python",
   "name": "python",
   "nbconvert_exporter": "python",
   "pygments_lexer": "ipython3",
   "version": "3.6.3"
  }
 },
 "nbformat": 4,
 "nbformat_minor": 2
}
